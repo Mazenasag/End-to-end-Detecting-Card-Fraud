{
 "cells": [
  {
   "cell_type": "code",
   "execution_count": 1,
   "id": "dc5aeac0",
   "metadata": {},
   "outputs": [],
   "source": [
    "import os"
   ]
  },
  {
   "cell_type": "code",
   "execution_count": 2,
   "id": "80e971fe",
   "metadata": {},
   "outputs": [
    {
     "data": {
      "text/plain": [
       "'e:\\\\Mlop\\\\End to end\\\\End-to-end-Detecting-Card-Fraud\\\\research'"
      ]
     },
     "execution_count": 2,
     "metadata": {},
     "output_type": "execute_result"
    }
   ],
   "source": [
    "os.getcwd()"
   ]
  },
  {
   "cell_type": "code",
   "execution_count": 3,
   "id": "18fa6a7e",
   "metadata": {},
   "outputs": [],
   "source": [
    "os.chdir(\"../\")"
   ]
  },
  {
   "cell_type": "code",
   "execution_count": null,
   "id": "79d66d37",
   "metadata": {},
   "outputs": [
    {
     "data": {
      "text/plain": [
       "'e:\\\\Mlop\\\\End to end\\\\End-to-end-Detecting-Card-Fraud'"
      ]
     },
     "execution_count": 4,
     "metadata": {},
     "output_type": "execute_result"
    }
   ],
   "source": [
    "os.getcwd()\n",
    "\n",
    "\n"
   ]
  },
  {
   "cell_type": "code",
   "execution_count": 65,
   "id": "30cf1569",
   "metadata": {},
   "outputs": [],
   "source": [
    "from dataclasses import dataclass\n",
    "from pathlib import Path\n",
    "\n",
    "@dataclass(frozen=True)\n",
    "class DataIngestionConfig:\n",
    "    data_source: Path\n",
    "    processed_data_dir: Path\n",
    "    train_file: Path\n",
    "    test_file: Path"
   ]
  },
  {
   "cell_type": "code",
   "execution_count": 66,
   "id": "a681a5a9",
   "metadata": {},
   "outputs": [],
   "source": [
    "from src.CardFraud.constant import*\n",
    "from src.CardFraud.utils.common import read_yaml , create_directories"
   ]
  },
  {
   "cell_type": "code",
   "execution_count": 68,
   "id": "a713f039",
   "metadata": {},
   "outputs": [],
   "source": [
    "class ConfigurationManager:\n",
    "    def __init__(\n",
    "        self, \n",
    "        config_filepath =CONFIG_FILE_PATH,\n",
    "        params_filepath =PARAMS_FILE_PATH\n",
    "    ):\n",
    "        \n",
    "        self.config =read_yaml(config_filepath)\n",
    "        self.params =read_yaml(params_filepath)\n",
    "        \n",
    "        \n",
    "    def get_data_ingestion_config(self)-> DataIngestionConfig:\n",
    "    \n",
    "        data_ingestion_config = DataIngestionConfig(\n",
    "            data_source=self.config.data_ingestion.data_source,\n",
    "            processed_data_dir=self.config.data_ingestion.processed_data_dir,\n",
    "            train_file=self.config.data_ingestion.train_file,\n",
    "            test_file=self.config.data_ingestion.test_file\n",
    "        )\n",
    "        \n",
    "        \n",
    "        return data_ingestion_config"
   ]
  },
  {
   "cell_type": "code",
   "execution_count": 54,
   "id": "ea212c1f",
   "metadata": {},
   "outputs": [],
   "source": [
    "config_filepath =CONFIG_FILE_PATH\n",
    "config =read_yaml(config_filepath)"
   ]
  },
  {
   "cell_type": "code",
   "execution_count": 57,
   "id": "3662c257",
   "metadata": {},
   "outputs": [
    {
     "data": {
      "text/plain": [
       "'artifacts/data_ingestion'"
      ]
     },
     "execution_count": 57,
     "metadata": {},
     "output_type": "execute_result"
    }
   ],
   "source": [
    "config.data_ingestion.root_dir"
   ]
  },
  {
   "cell_type": "code",
   "execution_count": 69,
   "id": "40880eca",
   "metadata": {},
   "outputs": [],
   "source": [
    "import pandas as pd\n",
    "from exception import CustomException\n",
    "from logger import logging\n",
    "import sys\n",
    "from sklearn.model_selection import train_test_split\n",
    "class DataIngestion:\n",
    "    def __init__(self , config:DataIngestionConfig):\n",
    "        self.config = config\n",
    "        \n",
    "    def read_data(self)-> pd.DataFrame:\n",
    "        \n",
    "        try:\n",
    "            data=pd.read_csv(self.config.data_source)\n",
    "            logging.info(\"data Read succssfully\")\n",
    "            return data\n",
    "        except Exception as e:\n",
    "            raise CustomException(e, sys)\n",
    "        \n",
    "        \n",
    "    def save_data(self, data:pd.DataFrame , filepath:Path):\n",
    "        os.makedirs(os.path.dirname(filepath),exist_ok=True)\n",
    "        data.to_csv(filepath, index=False)\n",
    "        logging.info(\"data Saved succssfully\")\n",
    "    \n",
    "    def split_data(self, data:pd.DataFrame):\n",
    "        try:\n",
    "            \n",
    "        \n",
    "            train_data,test_data =train_test_split(data , test_size=0.2 , random_state=42)\n",
    "            \n",
    "            self.save_data(train_data ,os.path.join(self.config.processed_data_dir,self.config.train_file ))\n",
    "            self.save_data(test_data ,os.path.join(self.config.processed_data_dir,self.config.test_file ))\n",
    "            logging.info(\"data Split succssfully\")\n",
    "        except Exception as e:\n",
    "            raise CustomException(e, sys)\n",
    "        \n",
    "        \n",
    "    def initiate_data_ingestion(self)->None:\n",
    "        \n",
    "        \n",
    "        data =self.read_data()\n",
    "        self.split_data(data)\n",
    "        \n",
    "        \n",
    "            \n",
    "        "
   ]
  },
  {
   "cell_type": "code",
   "execution_count": 70,
   "id": "f5ce7438",
   "metadata": {},
   "outputs": [],
   "source": [
    "try:\n",
    "    config = ConfigurationManager()\n",
    "    data_ingestion_config=config.get_data_ingestion_config()\n",
    "    data_ingestion= DataIngestion(config=data_ingestion_config)\n",
    "    data_ingestion.initiate_data_ingestion()\n",
    "except Exception as e:\n",
    "    raise CustomException"
   ]
  },
  {
   "cell_type": "code",
   "execution_count": null,
   "id": "c5e21e32",
   "metadata": {},
   "outputs": [],
   "source": []
  }
 ],
 "metadata": {
  "kernelspec": {
   "display_name": "venv",
   "language": "python",
   "name": "python3"
  },
  "language_info": {
   "codemirror_mode": {
    "name": "ipython",
    "version": 3
   },
   "file_extension": ".py",
   "mimetype": "text/x-python",
   "name": "python",
   "nbconvert_exporter": "python",
   "pygments_lexer": "ipython3",
   "version": "3.10.16"
  }
 },
 "nbformat": 4,
 "nbformat_minor": 5
}
