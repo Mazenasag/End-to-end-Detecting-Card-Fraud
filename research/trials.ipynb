{
 "cells": [
  {
   "cell_type": "code",
   "execution_count": 5,
   "id": "7416c3a4",
   "metadata": {},
   "outputs": [],
   "source": [
    "d = {\"name\": \"Alice\", \"age\": 25}"
   ]
  },
  {
   "cell_type": "code",
   "execution_count": null,
   "id": "fa960150",
   "metadata": {},
   "outputs": [],
   "source": [
    "from box import ConfigBox"
   ]
  },
  {
   "cell_type": "code",
   "execution_count": 18,
   "id": "92c7cab5",
   "metadata": {},
   "outputs": [],
   "source": [
    "c=ConfigBox({\"name\": \"Alice\", \"age\": 25})"
   ]
  },
  {
   "cell_type": "code",
   "execution_count": 19,
   "id": "0b306ed3",
   "metadata": {},
   "outputs": [
    {
     "data": {
      "text/plain": [
       "'Alice'"
      ]
     },
     "execution_count": 19,
     "metadata": {},
     "output_type": "execute_result"
    }
   ],
   "source": [
    "c.name"
   ]
  }
 ],
 "metadata": {
  "kernelspec": {
   "display_name": "venv",
   "language": "python",
   "name": "python3"
  },
  "language_info": {
   "codemirror_mode": {
    "name": "ipython",
    "version": 3
   },
   "file_extension": ".py",
   "mimetype": "text/x-python",
   "name": "python",
   "nbconvert_exporter": "python",
   "pygments_lexer": "ipython3",
   "version": "3.10.16"
  }
 },
 "nbformat": 4,
 "nbformat_minor": 5
}
